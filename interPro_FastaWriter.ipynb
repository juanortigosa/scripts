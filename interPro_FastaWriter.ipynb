{
 "cells": [
  {
   "cell_type": "code",
   "execution_count": 5,
   "metadata": {},
   "outputs": [],
   "source": [
    "import json\n",
    "import sys\n",
    "from Bio import SeqIO\n",
    "from Bio import ExPASy"
   ]
  },
  {
   "cell_type": "code",
   "execution_count": 4,
   "metadata": {},
   "outputs": [],
   "source": [
    "ruta_del_archivo = '/home/orti/Descargas/protein-sequences.json'\n",
    "def open_json(ruta_del_archivo):    # Intenta abrir y cargar el contenido del archivo JSON\n",
    "    try:\n",
    "        with open(ruta_del_archivo, \"r\") as archivo:\n",
    "            datos_json = json.load(archivo)\n",
    "            # Ahora 'datos_json' contiene el contenido del archivo JSON como un diccionario o una lista\n",
    "    except FileNotFoundError:\n",
    "        print(f\"El archivo '{ruta_del_archivo}' no se encuentra.\")\n",
    "    except json.JSONDecodeError as e:\n",
    "        print(f\"Error al decodificar el JSON: {e}\")\n",
    "    except Exception as e:\n",
    "        print(f\"Error inesperado: {e}\")\n",
    "    return datos_json\n",
    "\n",
    "def get_accessions(ruta_del_archivo):\n",
    "    datos_json = open_json(ruta_del_archivo)\n",
    "    accesions = [datos_json[i]['metadata']['accession'] for i in range(len(datos_json))]\n",
    "    return accesions\n",
    "\n",
    "def uniprot_handler(uniprotID): \n",
    "  '''\n",
    "    con el UniProtID elegimos la secuencia ----> Ej. UGGT 1 humana = Q9NYU2, myoglobin human = P02144 \n",
    "    '''\n",
    "  with ExPASy.get_sprot_raw(uniprotID) as handle:\n",
    "    record = SeqIO.read(handle, 'swiss')\n",
    "    return record"
   ]
  },
  {
   "cell_type": "code",
   "execution_count": 5,
   "metadata": {},
   "outputs": [],
   "source": []
  },
  {
   "cell_type": "code",
   "execution_count": 17,
   "metadata": {},
   "outputs": [
    {
     "data": {
      "text/plain": [
       "dict_keys(['metadata'])"
      ]
     },
     "execution_count": 17,
     "metadata": {},
     "output_type": "execute_result"
    }
   ],
   "source": [
    "datos_json[0].keys()"
   ]
  },
  {
   "cell_type": "code",
   "execution_count": 15,
   "metadata": {},
   "outputs": [
    {
     "data": {
      "text/plain": [
       "1606"
      ]
     },
     "execution_count": 15,
     "metadata": {},
     "output_type": "execute_result"
    }
   ],
   "source": [
    "datos_json[1]['metadata']['accession']"
   ]
  },
  {
   "cell_type": "code",
   "execution_count": null,
   "metadata": {},
   "outputs": [],
   "source": []
  }
 ],
 "metadata": {
  "kernelspec": {
   "display_name": "Python 3",
   "language": "python",
   "name": "python3"
  },
  "language_info": {
   "codemirror_mode": {
    "name": "ipython",
    "version": 3
   },
   "file_extension": ".py",
   "mimetype": "text/x-python",
   "name": "python",
   "nbconvert_exporter": "python",
   "pygments_lexer": "ipython3",
   "version": "3.10.12"
  }
 },
 "nbformat": 4,
 "nbformat_minor": 2
}
